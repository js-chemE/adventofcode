{
 "cells": [
  {
   "cell_type": "code",
   "execution_count": 178,
   "metadata": {},
   "outputs": [],
   "source": [
    "import numpy as np\n",
    "import pandas as pd\n",
    "import matplotlib.pyplot as plt\n",
    "import re"
   ]
  },
  {
   "cell_type": "code",
   "execution_count": 179,
   "metadata": {},
   "outputs": [],
   "source": [
    "# Load the text from the file\n",
    "with open('inputs/dec03.txt', 'r') as file:\n",
    "    text = file.read()\n",
    "\n",
    "text_small = \"xmul(2,4)&mul[3,7]!^don't()_mul(5,5)+mul(32,64](mul(11,8)undo()?mul(8,5))\""
   ]
  },
  {
   "cell_type": "code",
   "execution_count": 180,
   "metadata": {},
   "outputs": [],
   "source": [
    "DISABLED_REGIONS = r'don\\'t\\(\\).*?do\\(\\)'\n",
    "DISABLED_END = r'don\\'t\\(\\).?'\n",
    "def delete_disabled_code(text: str) -> str:\n",
    "    # Remove all the disabled code\n",
    "    text = re.sub(DISABLED_REGIONS, '', text.strip(), flags=re.DOTALL)\n",
    "    text = re.sub(DISABLED_END, '', text.strip(), flags=re.DOTALL)\n",
    "    return text"
   ]
  },
  {
   "cell_type": "code",
   "execution_count": 181,
   "metadata": {},
   "outputs": [
    {
     "name": "stdout",
     "output_type": "stream",
     "text": [
      "73\n",
      "30\n"
     ]
    }
   ],
   "source": [
    "cleaned_text_small = delete_disabled_code(text_small)\n",
    "print(len(text_small))\n",
    "print(len(cleaned_text_small))"
   ]
  },
  {
   "cell_type": "code",
   "execution_count": 182,
   "metadata": {},
   "outputs": [
    {
     "name": "stdout",
     "output_type": "stream",
     "text": [
      "17998\n",
      "11196\n"
     ]
    },
    {
     "data": {
      "text/plain": [
       "False"
      ]
     },
     "execution_count": 182,
     "metadata": {},
     "output_type": "execute_result"
    }
   ],
   "source": [
    "cleaned_text = delete_disabled_code(text)\n",
    "print(len(text))\n",
    "print(len(cleaned_text))\n",
    "\"don't()\" in cleaned_text"
   ]
  },
  {
   "cell_type": "code",
   "execution_count": 183,
   "metadata": {},
   "outputs": [
    {
     "name": "stdout",
     "output_type": "stream",
     "text": [
      "4\n",
      "654\n"
     ]
    }
   ],
   "source": [
    "# Regular expression pattern to match mul(x, y) with integer arguments\n",
    "multiplication_pattern = r'mul\\(\\d+,\\d+\\)'\n",
    "def extract_multiplications(text: str, pattern: str = multiplication_pattern) -> list:\n",
    "    # Find all the multiplication expressions\n",
    "    multiplications = re.findall(pattern, text)\n",
    "    return multiplications\n",
    "\n",
    "\n",
    "matches_small = extract_multiplications(text_small, multiplication_pattern)\n",
    "matches = extract_multiplications(text, multiplication_pattern)\n",
    "print(len(matches_small))\n",
    "print(len(matches))"
   ]
  },
  {
   "cell_type": "code",
   "execution_count": 184,
   "metadata": {},
   "outputs": [],
   "source": [
    "def get_sum_of_multiplications(text: str, pattern: str = multiplication_pattern) -> int:\n",
    "    # Extract the multiplications\n",
    "    multiplications = extract_multiplications(text, pattern)\n",
    "    # Sum the results\n",
    "    xs = []\n",
    "    ys = []\n",
    "    for match in multiplications:\n",
    "        x, y = map(int, match.replace('mul(', '').replace(')', '').split(','))\n",
    "        xs.append(x)\n",
    "        ys.append(y)\n",
    "    xs = np.array(xs)\n",
    "    ys = np.array(ys)\n",
    "    instruction_sum = (xs * ys).sum()\n",
    "    return instruction_sum"
   ]
  },
  {
   "cell_type": "code",
   "execution_count": 185,
   "metadata": {},
   "outputs": [
    {
     "name": "stdout",
     "output_type": "stream",
     "text": [
      "161 48\n",
      "155955228 100189366\n"
     ]
    }
   ],
   "source": [
    "print(get_sum_of_multiplications(text_small), get_sum_of_multiplications(cleaned_text_small))\n",
    "print(get_sum_of_multiplications(text), get_sum_of_multiplications(cleaned_text))"
   ]
  },
  {
   "cell_type": "code",
   "execution_count": null,
   "metadata": {},
   "outputs": [],
   "source": [
    "# 109334846, for 'don\\'t\\(\\).?'\n",
    "# 109334846, for 'don\\'t\\(\\).'\n",
    "# 101681733, for 'don\\'t\\(\\).*', wrong answer\n",
    "# 109663031, for 'don\\'t\\(\\).*?',\n",
    "\n",
    "# 100189366, for 'don\\'t\\(\\).*?' + DOTALL\n",
    "# 100189366, for 'don\\'t\\(\\).*' + DOTALL\n",
    "# 100189366, for 'don\\'t\\(\\).' + DOTALL\n",
    "# 100189366, for 'don\\'t\\(\\).?' + DOTALL"
   ]
  }
 ],
 "metadata": {
  "kernelspec": {
   "display_name": ".venvAOC",
   "language": "python",
   "name": "python3"
  },
  "language_info": {
   "codemirror_mode": {
    "name": "ipython",
    "version": 3
   },
   "file_extension": ".py",
   "mimetype": "text/x-python",
   "name": "python",
   "nbconvert_exporter": "python",
   "pygments_lexer": "ipython3",
   "version": "3.13.0"
  }
 },
 "nbformat": 4,
 "nbformat_minor": 2
}
