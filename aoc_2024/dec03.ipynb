{
 "cells": [
  {
   "cell_type": "code",
   "execution_count": 41,
   "metadata": {},
   "outputs": [],
   "source": [
    "import numpy as np\n",
    "import pandas as pd\n",
    "import matplotlib.pyplot as plt\n",
    "import re"
   ]
  },
  {
   "cell_type": "code",
   "execution_count": 42,
   "metadata": {},
   "outputs": [],
   "source": [
    "# Load the text from the file\n",
    "with open('dec03.txt', 'r') as file:\n",
    "    text = file.read()"
   ]
  },
  {
   "cell_type": "code",
   "execution_count": 51,
   "metadata": {},
   "outputs": [
    {
     "data": {
      "text/plain": [
       "re.compile(r\"don\\'t\\(\\).*?do\\(\\)\", re.UNICODE)"
      ]
     },
     "execution_count": 51,
     "metadata": {},
     "output_type": "execute_result"
    }
   ],
   "source": [
    "# Regular expression pattern to match mul(x, y) with integer arguments\n",
    "multiplication_pattern = r'mul\\(\\d+,\\d+\\)'\n",
    "# invalid_regions = r'don\\'t\\([^)]*\\).*?do\\([^)]*\\)'\n",
    "invalid_regions = r'don\\'t\\(\\).*?do\\(\\)'\n",
    "invalid_end = r'don\\'t\\(\\).*?'\n",
    "re.compile(invalid_regions)"
   ]
  },
  {
   "cell_type": "code",
   "execution_count": 56,
   "metadata": {},
   "outputs": [
    {
     "name": "stdout",
     "output_type": "stream",
     "text": [
      "17998\n",
      "12000\n",
      "11979\n"
     ]
    }
   ],
   "source": [
    "print(len(text))\n",
    "cleaned_text = re.sub(invalid_regions, '', text)\n",
    "print(len(cleaned_text))\n",
    "cleaned_text = re.sub(invalid_end, '', cleaned_text)\n",
    "print(len(cleaned_text))"
   ]
  },
  {
   "cell_type": "code",
   "execution_count": 45,
   "metadata": {},
   "outputs": [
    {
     "data": {
      "text/plain": [
       "True"
      ]
     },
     "execution_count": 45,
     "metadata": {},
     "output_type": "execute_result"
    }
   ],
   "source": [
    "\"do()\" in cleaned_text"
   ]
  },
  {
   "cell_type": "code",
   "execution_count": 46,
   "metadata": {},
   "outputs": [
    {
     "data": {
      "text/plain": [
       "\"$]~?,'mul(268,621)why() mul(668,915)mul(887,633)from()!where(998,493)how(230,27) mul(940,760);'/when()*!;~mul(71,701)-{mul(448,270)mul(925,62)mul(414,959)when() % select()how() ;><mul(416,836)#where()>@*<>why()mul(703,154))&how()*]select()+>;(mul(480,365)mul(724,324)what()from()~!(:,who()mul(226,399)'~mul(212,790)#!&]-mul(876,690){mul(233,661)!   &}how() ++#mul(834,70)^++]do()*('(;%}+mul(229,122)<-mul(246,512)@#,~@)$mul(144,702),select()^^what()[where()where(989,666)~mul(641,578)$!mul(854,445)'{)when()mul(485,421),]mul(203,14)(mul(964,896)#what(219,318)}@why()when()}:#mul(40,891)$]mul(593,751)where()mul(755,69)what()'!mul(295,76)when()[~(}when(815,693)mul(115,764)what()from()mul(572,436)[#) #?where(641,661)+mul(582,92)[/&when()/</:: mul(653,493)mul(516,59)<'}[what(257,655)mul(15-^why(279,495)!]!#%?why()&mul(273,379)how()+){!?mul(317,463)when() ]!what()}mul(188,340)mul(274,697):@mul(546,487)!mul(412,582){^**{)?@mul(477,785)where()(?mul(376,158)@*@#how(520,828)from()>mul(727,831)from()^mul(982,400)/-who()+(>(&select()mul(508,679)^('*'mul(549,463)']*select()>'+?'mul(149,313),':)mul(226,577)^how()who()mul(347,528)]~<mul(633,771) ([;}}<}:{mul(271,100)where()$from(587,500)$*mul(974,539)}*?:[+/>mul(323,513)mul(204,877),,select(){mul(290,987)>when()select()~what()()mul(131,943)why(726,908)when()why()/&$what() >mul(629,63))&mul(281,287)!^ /mul(615,191)mul(932,78)%&)]when()/~%%#mul(769,253)+@}/what()@]mul(118,261)how()when();*why()?why()mul(886,136)from()why()>]+[$mul(825,656)>mul(150,646)+:# ))(!select(72,556)who(247,255)mul(560,142)<&&'&]}};mul(821,966(mul(965,238)^:!'^%)$(where()mul(59,811)how()/from()-<from()}[*when()mul(146,176)\\n/what()what(){?mul(835,756)how()]where()'<!'!#why(636,26)mul(655,281)-($<;#when()when()%'mul(553,980)+,why()+when()&how()%mul(976,110)<from()>mul(125,745)[{~@{/where()^when()mul(135,726)what()+>where(),}( mul(777,401);why()*what()>mul(273,895))who()what()^~}mul(262,790[<}?mul(63,369)how()>-@what()why()how()who()$who(178,159)mul(683,505)how()^mul(455,197)&select()/'what()'do() ^,[&^*mul(82,385)^;&from()!mul(204,650)what()<* mul(740,616)+(~*&+}>mul(960,112)*>}?^[(mul(514,803)why()}mul(444,392)#<&when(716,989)^mul(561,408<{(/+><#mul(825,562)#,when()@+?,<)how()mul(234,478)do(),$ [>mul(256,258)from()}{%how()#]mul(128,475) why()>:&mul(551,920;how()/select()&@'/$-?mul(162,185)-!)}select()*//$mul>$!where()/?/*}'mul(638,747)+who()(how()[from()(mul(703,27)select()when()when()mul(930,930)}/;mul(864,803)mul(12,609:}what()what()what()],mul(731,140)^from()mul(826,563)(>~^'&?who()mul(315,307)how()+mul(562,147&%*%when())who()[^;}do()how(372,554)$:](from()!/mul[},+,mul(797,390)what(407,406)what()when(),:mul(819,147)[*mul~how(384,366))'mul(405,193)why()+who() who()**mul(862,595)select()mul(384,147)-{, what()what()do()@~+@/how()<when()how()-mul(952,896)?select()@%$mul(760,82)mul(574,265)mul(35'}@#>*~&mul(963,48) <mul(12,9):@when()when(){*how()?mul(195,687)!;who()~,<>>who(492,300)mul(524,257)#(~~mul(392,601)$ &;do()$%mul(482,146)mul(787,904)[~@!~-why()mul(229,907)where()who()(mul(357,675),mul(453,241)who())when()[~+mul(502,25)']]select() &[#@)mul(743?,@~mul(370,914)mul(824,56)+who(),how()'*from() @mul(330,830)why()what():/^/where()where()mul(400,891)&} mul(660,956)%;&select(693,80)};mul(974,635)+<]](mul(946,953)>who()&why()mul(753,83)what()],['$%mul(764,682,when()%+@';:why()%mul(656,275)mul(605,22)@[mul(688,929)what())~:mul(724,267)>--mul(480,89)mul(237,945)~@[(*mul(636,205)@{^]mul(441,199):?select()mul(563,508)mul(103,692)mul(52,210)@^who()*&!>$who()!mul(989,419),[<-select()who()select()&mul(613,351)!~;%^*:mul(580,115)mul(516,628)when()(^%,>:do()mul(286,899){-$?]+):when()mul(990,247):#select()#why(532,636)*%):'mul(86,546)how()mul(234,253)from()how(),,!mul(407,308))select()mul(240,422)mul(632,751)(mul(506,967)mul(548,606);,,&^mul(788,227);>:]%mul(111,533)mul(126,215)\\n]/mul(147,892)why():>^when()$>$&mul(303,773) how()who()/*]!what()?mul(629,216)}&,!mul(56,589){~+]&}(mul(922,707)what()# )# mul(880,584){]:mul@{where()*what()who(321,62)^%where()mul(557,582)<>^  mul(612,179!%&^:'?what()@mul(450,229)%mul(855,946),]who()%<@&?mul(487,412){]~;when()mul(583,461)select()select()what()<*%when()mul(181,955)do()$)/^::why()select()why()}mul(562,105)mul(751,114)')&,when(){>{mul(197,218)*mul(840,115)&}#<@$mul(712,194)+^};when()who()^}!who()from()]$*how()+mul(599,103)mul(571,370)?&from()from()mul(409,542)@/,'({{mul(593,239)what()!(?mul(735,478)?mul(292,372)?-where()mul(642,507)why(){from()mul(889,136)how()/-*why()/from()/:-mul(413,457)[(where()(mul(202,599){};+when())what(547,682)#mul(719,361)]!**mul(976,244)'how(927,878)@when()'!mul(422,110)who();select()#why()where()@mul(224,849)(]& {where()>select()#mul(924,968),select()~when(272,716)]mulwhen()!;&do()*/?[mul(336,583)-{where()how(366,471)how()how(523,337):who()where(693,273)/mul(243,820)?^mul(853,171)++%mul(478,163)[-how()};]when()'?select()what()?what()'-{)<[mul(493,789),who(339,679)/@?&mul(874,48 $+mul(26,167)*(mul(516,76)who())<where()]:?mul(869,874)where()>')why()do()mul(690,973)when()how(161,404)<from(){where();[mul(220,766)mul(897,316)how()#why()'$from()@mul(684,371))mul(159,439)^^~mul(446,162)<<{mul[{!what()!where()?mul(886,787):}: from(){]%/%mul;>&mul(202,173)}mul(428,938){+;from()>,'mul(999,421)select()/select())&![?from()select()mul(999%mul(225,521)what(),who()'*how()from()mul(348,864)% who()#how()>{' mul(388,836)^^what()@<:mul(963,504),when()%^}~^;~mul(778,115;?^where() )what()^{)*mul(632,400)who()[why()>what(603,334)who()^$mul(831,297)*-%mul(362,398%+~why(426,765)?^where()>mul(327,876)who()/?%:from()<select()mul(822,774)mul(577,987)&@^;-?mul(548,583)!)mul(531,201what(173,685)@who()>select())mul(765,201) *mul(445,679)(};who()who()}mul(753,171!{~[?who(): '%do()):when(197,925)mul(538,681)/,why()mul}{ (*[mul(268,860)mul(408,458)mul(266,226)[? how()!from(), &mul(135,62)from()select()mul(340,25)what()where()  what()'mul(545,879){how()}#![who()%mul(638,670)!;where()~select()mul(479,848)mul(109,148)'how()mul(416,15)from()@/+<!+@+mul(606,592)]mul(722,360)what()from(){&)@< mul(876,290)what()when()}]mul(983,542)mul(985,495)(??select(932,48)when()#when();mul(383,988?%what()mul(519,18)how()}}*when()when(977,898)when()~how(545,749)when()~/)when()what()who()from()(mul(587,850)+what()who()from() ^who()-$mul(756,247) *what()mul(608,305)mul(684,567)when(366,8)]how(582,805)*#where()select()mul(766,413)?^ ^!%mul(496,516){who()'mul(314,640)%'&when()$$@from()*mul(278,921)#'{< $&%why()]mul(60,195)mul(817,525):@'#& (,mul(54,364)~~>!~+*?how()+mul(973,10<%why())>select()(mul(329,897)(how()}mul(106,169)@><)how()>who()'mul(326,837)[how()when()>mul(201,602)>?;]/!&!-mul(167,706)>{where()<{/select()/mul(690,524)''why()^>select();?mul(546,39);]when()/why()/!,from()where()mul(193,398)^/#when(),%)how()*mul(915,972)@{{*~mul(283,116)-mul(922,445)why()how()?:;>do()^^/~+{mul(218,56)}mul(4,84)[-;+>mul(625,977)#;how() *}when()from()}mul(238,60)!(~< >mul(518,730)@[(]mul(480,891)why()?,mul(739,807)^mul(248- >[$&mul(792,34)mul(429,330)why()from()^'what()mul(887,370) ^^do()&$$mul(878,990)select(988,557),:#[mul(935,519)(mul(627,252) )mul(370,34)mul(381,288)}(>?;}@>*$mul(205,870)}!from() /where()who():^!mul(925,721)<[select()+when()$+  {mul(58,683)who()where(574,239)what()when()'&[what(682,763),>mul(63,268)@*&<^mul(494*[/(:select()+$do()%from()])where()/ '}mul(605,58)who() from()^$who(907,117)mul(543,205)*'>{>) mul(203,851)]}mulselect()when()/when()?mul(108,926):[(>how():!)~^mul(435,239) how(917,967) why(740,79)mul(922,64$mul(718,98)mul(683,826)*)what()?when()what()@<):mul(685,595)/<{from()&select()mul(398,94)what()}#$%^]#mul(695,681)}{how()where(760,742)-]*mul(596,194)/when()who()[&,>$[?mul(576,392)-,&mul(726,538from()*select()[;;why()$mul(552,319)]~>where()where()~mul(203,829):mul(645,741)}> <from()/$+mul(855,250)&when()(-mul(542,287)how()<@what()$*where(598,870)mul(796,465)-)}mul(131,45){~)$]]+^where()mul(233,25)[?*:+how()-[+mul(380,251)@from()^~what()>-* 'mul(760,810)mul(484,762)-)&+mul(780,483), (+how()$-what()'mul(36,857),what(2,894)select(), !?mul(916,494)<{(&mul(965,701)]where()mul(393,273)#+from()mul(430,13) ++*how(626,996)#mul(399,24)when()#$:;{%,mul(940,82)^$!~what()>{/do()/select()mul(787,843)mul(521,553)%:/mul(208,377),#%@^+@^mul(987,863)!^select()who()-+do()where()&[<%&'where()~mul(366,478)!^why()?mul(57,407))~}mul(350,637)*how():*select()where()!+(@when()who()/$mul(883,573)where()]+when()]>how()~'mul(625,896)from()from()~>*who()mul(354,189)what()what()<$;,&{~mul(49,83)who(699,589)from()[' &(,mul(482,242)@select()}mul(955,898)^],{mul(751,976)who(999,593)<do()~from()$mul$'@^$*,mul(286,266)&what()how()//{%mul(842,67)when()where(447,72)why()-^mul(341,551)\\n~!;$!)[select()mul(873,134)when()when() mul(904,816){$where()do()+^[)select(27,333)mul(38,988)!''why()*mul(672,64)do()select())select()!&-how()what()(mul(228,335))<what()from())where()&who()mul(968,542)(why()#*from()^<mul(657,700)@why()]mul(418,534),mul(742,417){how()-why()&select()mul(581,270) !what()how(),'~'mul(278,221)*^~$:<+how()'mul(844,971)how()//?@from()@-$:mul(216,756)++& (who()mul(4,859)when())-&{*}mul(519,145)$!why()~how()@/mul(640,127){how()!mul(713,178){mul(273,105)*mul(454,914)mul(94,834){+select()]?mul(980,950)select()&];how()< *what()do();(who()~}from()(/mul(796,944)how()why()[*<%mul(268,409)]^(mul(26,522)/^how(206,385)'why()?$why()'mul(94,238)~%?-'where())!mul(746,273)when(),/#*who()mul(170,879)(^^,/when()mul(981,865)mul(932,913):$)?mul(793,661)]*:,mul(60,636)(<[select()>?,(;mul(420,452)^})when()<(mul(636,434;<(how(94,282)who()+-&mul(783,657)[mul(847,658)~how(){}?mul(989,907)(!>/ $}>how()mul(558,445)}+when():from()when()mul(876,292)*<#@!'^*# mul(73,78)&&how()&&;]';mul(335,413)why())$;<mul(448,62))how()~#?select()who(148,699)#:<mul(503,275)where()~where()+select(),from(792,612)'why(585,938)}mul(209,138)who()$&@from()&<+mul{<mul(90,339)>why():,from()how()what()when()where()mul^< %%select();what()}%,mul(752,362)!]~)when()[select(366,751);>mul(273,152)select()<<-/mul(511,598)?why()& how()$mul(448,432)>@mul(339,548)+when()~![^]&mul(647,93)&mul(267,37)@)select()mul(129,485<from()^)where()-}mul(359,132)select() &@^#~%;]mul(60,683),$]mul(150,648)what(826,939)why()#{&$why()}}do()how()#mul(264,269)mul(801,959)where()mul(473,955)why()mul(904,980)how(),mul(236,191!&[(from()when(){mul(50,79);how()*mul$>*why()from()(mul(768,683)mul(899,105)/</where()how()mul(767,5)>mul(68,213)~+why()select()&mul(153,265)what()'mul(514,270)}what();why()~}'!,mul(531,368)mul(904,338&>:(]:#?select()mul(204,761)where()from()why()select()?what():$from()mul(233,16)~[@,-how()$-mul(581,325)when()~how();mul(110,774)**mul(108,350)?why()&*(&>mul(433,429)<$& }},}>mul(153what()%/:~/how()mul(353,227)-^>!*--select()when()#mul(619,64)(!?@%'>%select()mul(971,885))!@~mul(635,10)@[&?from()where()}mul(319,14){*/select()[mulwhere()when()why()/mul(891,25)#~who()&+from()mul(108,794)$^;when()[[mul(400,669)$:&^select()mul(555,790)[/: &]mul(171,172);]?-?why()who()mul(888,721)(:#<^what()')+why()mul(525,350)when()why()~$;where()&how()?[do()mul(609,471)from()#*,*where()^}mul(669,739)/{mul(343,414):]when()+{~'mul(406,490)%#&~mul(894,362)[+#mul(901,351);,);>}/!?/ mul(158,193)#-@~mul(276,84)mul(85,578)+}@?where()mul(923,250)?mul(579,411)*mul(932,39)/]#?[,where()?%]\""
      ]
     },
     "execution_count": 46,
     "metadata": {},
     "output_type": "execute_result"
    }
   ],
   "source": [
    "cleaned_text"
   ]
  },
  {
   "cell_type": "code",
   "execution_count": 47,
   "metadata": {},
   "outputs": [
    {
     "data": {
      "text/plain": [
       "np.int64(155955228)"
      ]
     },
     "execution_count": 47,
     "metadata": {},
     "output_type": "execute_result"
    }
   ],
   "source": [
    "# Find all matches\n",
    "\n",
    "matches = re.findall(multiplication_pattern, text)\n",
    "xs = []\n",
    "ys = []\n",
    "for match in matches:\n",
    "    x, y = map(int, match.replace('mul(', '').replace(')', '').split(','))\n",
    "    xs.append(x)\n",
    "    ys.append(y)\n",
    "xs = np.array(xs)\n",
    "ys = np.array(ys)\n",
    "instruction_sum = (xs * ys).sum()\n",
    "instruction_sum"
   ]
  },
  {
   "cell_type": "code",
   "execution_count": 48,
   "metadata": {},
   "outputs": [
    {
     "data": {
      "text/plain": [
       "np.int64(100189366)"
      ]
     },
     "execution_count": 48,
     "metadata": {},
     "output_type": "execute_result"
    }
   ],
   "source": [
    "# Find all matches\n",
    "matches = re.findall(multiplication_pattern, cleaned_text)\n",
    "xs = []\n",
    "ys = []\n",
    "for match in matches:\n",
    "    x, y = map(int, match.replace('mul(', '').replace(')', '').split(','))\n",
    "    xs.append(x)\n",
    "    ys.append(y)\n",
    "xs = np.array(xs)\n",
    "ys = np.array(ys)\n",
    "cleaned_instruction_sum = (xs * ys).sum()\n",
    "cleaned_instruction_sum"
   ]
  },
  {
   "cell_type": "code",
   "execution_count": 49,
   "metadata": {},
   "outputs": [
    {
     "data": {
      "text/plain": [
       "np.float64(0.6424239013006989)"
      ]
     },
     "execution_count": 49,
     "metadata": {},
     "output_type": "execute_result"
    }
   ],
   "source": [
    "cleaned_instruction_sum / instruction_sum"
   ]
  },
  {
   "cell_type": "code",
   "execution_count": 50,
   "metadata": {},
   "outputs": [
    {
     "name": "stdout",
     "output_type": "stream",
     "text": [
      "Result: 0\n"
     ]
    }
   ],
   "source": [
    "import re\n",
    "\n",
    "def process_instructions(memory: str) -> int:\n",
    "    # Pattern to find all mul instructions (ignoring invalid characters)\n",
    "    mul_pattern = re.compile(r\"mul\\((\\d+),\\s*(\\d+)\\)\")\n",
    "    # This pattern will match `do()` and `don't()` commands\n",
    "    do_pattern = re.compile(r\"do\\(\\)\")\n",
    "    dont_pattern = re.compile(r\"don't\\(\\)\")\n",
    "\n",
    "    # To track the state of whether mul is enabled or disabled\n",
    "    mul_enabled = True\n",
    "    total_sum = 0\n",
    "\n",
    "    # Iterate over the memory string while applying \"do\" and \"don't\" rules\n",
    "    position = 0\n",
    "    while position < len(memory):\n",
    "        # If we find a do() or don't(), change the state\n",
    "        if memory[position:position+4] == \"do()\":\n",
    "            mul_enabled = True\n",
    "            position += 5\n",
    "        elif memory[position:position+7] == \"don't()\":\n",
    "            mul_enabled = False\n",
    "            position += 8\n",
    "        else:\n",
    "            position += 1\n",
    "            continue\n",
    "        \n",
    "        # Extract mul instructions\n",
    "        matches = mul_pattern.findall(memory)\n",
    "        \n",
    "        for match in matches:\n",
    "            x, y = map(int, match)\n",
    "            if mul_enabled:\n",
    "                total_sum += x * y\n",
    "\n",
    "    return total_sum\n",
    "\n",
    "\n",
    "# Test the function with an example input:\n",
    "input_data = \"xmul(2,4)%&mul[3,7]!@^do_not_mul(5,5)+mul(32,64]then(mul(11,8)mul(8,5))\"\n",
    "result = process_instructions(input_data)\n",
    "print(f\"Result: {result}\")"
   ]
  }
 ],
 "metadata": {
  "kernelspec": {
   "display_name": ".venv313_quicks",
   "language": "python",
   "name": "python3"
  },
  "language_info": {
   "codemirror_mode": {
    "name": "ipython",
    "version": 3
   },
   "file_extension": ".py",
   "mimetype": "text/x-python",
   "name": "python",
   "nbconvert_exporter": "python",
   "pygments_lexer": "ipython3",
   "version": "3.13.0"
  }
 },
 "nbformat": 4,
 "nbformat_minor": 2
}
