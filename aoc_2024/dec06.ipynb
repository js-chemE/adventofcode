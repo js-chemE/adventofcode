{
 "cells": [
  {
   "cell_type": "code",
   "execution_count": 86,
   "metadata": {},
   "outputs": [],
   "source": [
    "import numpy as np\n",
    "import pandas as pd\n",
    "import matplotlib.pyplot as plt\n",
    "import re\n",
    "from typing import List, Tuple"
   ]
  },
  {
   "cell_type": "code",
   "execution_count": 87,
   "metadata": {},
   "outputs": [
    {
     "name": "stdout",
     "output_type": "stream",
     "text": [
      "[6 4]\n",
      "[[0. 0. 0. 0. 1. 0. 0. 0. 0. 0.]\n",
      " [0. 0. 0. 0. 0. 0. 0. 0. 0. 1.]\n",
      " [0. 0. 0. 0. 0. 0. 0. 0. 0. 0.]\n",
      " [0. 0. 1. 0. 0. 0. 0. 0. 0. 0.]\n",
      " [0. 0. 0. 0. 0. 0. 0. 1. 0. 0.]\n",
      " [0. 0. 0. 0. 0. 0. 0. 0. 0. 0.]\n",
      " [0. 1. 0. 0. 0. 0. 0. 0. 0. 0.]\n",
      " [0. 0. 0. 0. 0. 0. 0. 0. 1. 0.]\n",
      " [1. 0. 0. 0. 0. 0. 0. 0. 0. 0.]\n",
      " [0. 0. 0. 0. 0. 0. 1. 0. 0. 0.]]\n"
     ]
    }
   ],
   "source": [
    "with open('inputs/dec06s.txt', 'r') as f:\n",
    "    lines = f.readlines()\n",
    "current_game = [list(line.strip()) for line in lines]\n",
    "current_game = np.array(current_game)\n",
    "current_game[current_game == '.'] = 0\n",
    "current_game[current_game == '#'] = 1\n",
    "current_game[current_game == '^'] = 9\n",
    "current_game = current_game.astype(float)\n",
    "irow_guard, icol_guard = tuple(np.where(current_game == 9))\n",
    "start_position = np.append(irow_guard, icol_guard)\n",
    "current_game[irow_guard, icol_guard] = 0\n",
    "print(start_position)\n",
    "print(current_game)\n",
    "start_direction = np.array([-1, 0])"
   ]
  },
  {
   "cell_type": "code",
   "execution_count": 88,
   "metadata": {},
   "outputs": [
    {
     "name": "stdout",
     "output_type": "stream",
     "text": [
      "41 [9 7] False\n"
     ]
    }
   ],
   "source": [
    "def get_new_direction(game: np.ndarray, position: np.ndarray, direction: np.ndarray) -> np.ndarray:\n",
    "    if position[0] + direction[0] < 0 or position[0] + direction[0] >= game.shape[0] or position[1] + direction[1] < 0 or position[1] + direction[1] >= game.shape[1]:\n",
    "        return np.zeros_like(direction)\n",
    "    elif game[position[0] + direction[0], position[1] + direction[1]] == 0:\n",
    "        return direction.copy()\n",
    "    else:\n",
    "        rotation_matrix = np.array([[0, 1], [-1, 0]])\n",
    "        new_direction = np.dot(rotation_matrix, direction).copy()\n",
    "        return new_direction\n",
    "\n",
    "def run(game: np.ndarray, start_position: np.ndarray, start_direction: np.ndarray) -> Tuple[np.ndarray, np.ndarray, bool]:\n",
    "    footpath = np.zeros_like(game, dtype=int)\n",
    "    footpath[start_position[0], start_position[1]] = 1\n",
    "\n",
    "    position = start_position.copy()\n",
    "    direction = start_direction.copy()\n",
    "    is_loop = False\n",
    "    while True:\n",
    "        new_direction = get_new_direction(game, position, direction)\n",
    "        if np.all(new_direction == np.zeros_like(new_direction)):\n",
    "            break\n",
    "        position += new_direction\n",
    "        direction = new_direction\n",
    "        footpath[position[0], position[1]] += 1\n",
    "        # print(footpath.sum(), position, new_direction, game[position[0], position[1]])\n",
    "        if footpath[position[0], position[1]] == 5:\n",
    "            is_loop = True\n",
    "            break\n",
    "    \n",
    "    return footpath, position, is_loop\n",
    "\n",
    "footpath, last_position, is_loop = run(current_game, start_position, start_direction)\n",
    "print(footpath[footpath > 0].size, last_position, is_loop)"
   ]
  },
  {
   "cell_type": "code",
   "execution_count": 89,
   "metadata": {},
   "outputs": [
    {
     "data": {
      "text/plain": [
       "numpy.ndarray"
      ]
     },
     "execution_count": 89,
     "metadata": {},
     "output_type": "execute_result"
    }
   ],
   "source": [
    "start = start_position + 1j * start_direction\n",
    "type(start)"
   ]
  },
  {
   "cell_type": "code",
   "execution_count": null,
   "metadata": {},
   "outputs": [
    {
     "name": "stdout",
     "output_type": "stream",
     "text": [
      "[6.-1.j 4.+0.j] 0\n",
      "True\n",
      "[5.-1.j 4.+0.j] 1 [array([6.-1.j, 4.+0.j])]\n"
     ]
    },
    {
     "ename": "ValueError",
     "evalue": "The truth value of an array with more than one element is ambiguous. Use a.any() or a.all()",
     "output_type": "error",
     "traceback": [
      "\u001b[1;31m---------------------------------------------------------------------------\u001b[0m",
      "\u001b[1;31mValueError\u001b[0m                                Traceback (most recent call last)",
      "Cell \u001b[1;32mIn[116], line 27\u001b[0m\n\u001b[0;32m     24\u001b[0m     seen \u001b[38;5;241m=\u001b[39m run_complex(game, start)\n\u001b[0;32m     25\u001b[0m     \u001b[38;5;28mprint\u001b[39m(\u001b[38;5;28mlen\u001b[39m(seen))\n\u001b[1;32m---> 27\u001b[0m \u001b[43mrun_obstacles\u001b[49m\u001b[43m(\u001b[49m\u001b[43mcurrent_game\u001b[49m\u001b[43m,\u001b[49m\u001b[43m \u001b[49m\u001b[43mstart\u001b[49m\u001b[43m)\u001b[49m\n",
      "Cell \u001b[1;32mIn[116], line 24\u001b[0m, in \u001b[0;36mrun_obstacles\u001b[1;34m(game, start)\u001b[0m\n\u001b[0;32m     23\u001b[0m \u001b[38;5;28;01mdef\u001b[39;00m \u001b[38;5;21mrun_obstacles\u001b[39m(game: np\u001b[38;5;241m.\u001b[39mndarray, start: np\u001b[38;5;241m.\u001b[39mndarray) \u001b[38;5;241m-\u001b[39m\u001b[38;5;241m>\u001b[39m \u001b[38;5;28;01mNone\u001b[39;00m:\n\u001b[1;32m---> 24\u001b[0m     seen \u001b[38;5;241m=\u001b[39m \u001b[43mrun_complex\u001b[49m\u001b[43m(\u001b[49m\u001b[43mgame\u001b[49m\u001b[43m,\u001b[49m\u001b[43m \u001b[49m\u001b[43mstart\u001b[49m\u001b[43m)\u001b[49m\n\u001b[0;32m     25\u001b[0m     \u001b[38;5;28mprint\u001b[39m(\u001b[38;5;28mlen\u001b[39m(seen))\n",
      "Cell \u001b[1;32mIn[116], line 20\u001b[0m, in \u001b[0;36mrun_complex\u001b[1;34m(game, start_state)\u001b[0m\n\u001b[0;32m     18\u001b[0m     state \u001b[38;5;241m=\u001b[39m new_state\n\u001b[0;32m     19\u001b[0m     \u001b[38;5;28mprint\u001b[39m(state, \u001b[38;5;28mlen\u001b[39m(seen), seen)\n\u001b[1;32m---> 20\u001b[0m     \u001b[38;5;28mprint\u001b[39m(\u001b[43mstate\u001b[49m\u001b[43m \u001b[49m\u001b[38;5;129;43;01mnot\u001b[39;49;00m\u001b[43m \u001b[49m\u001b[38;5;129;43;01min\u001b[39;49;00m\u001b[43m \u001b[49m\u001b[43mseen\u001b[49m)\n\u001b[0;32m     21\u001b[0m \u001b[38;5;28;01mreturn\u001b[39;00m seen\n",
      "\u001b[1;31mValueError\u001b[0m: The truth value of an array with more than one element is ambiguous. Use a.any() or a.all()"
     ]
    }
   ],
   "source": [
    "def run_complex(game: np.ndarray, start_state: np.ndarray) -> None:\n",
    "    state = start_state\n",
    "    seen = start_state\n",
    "    print(state, len(seen))\n",
    "    print(state not in seen)\n",
    "    while state not in seen:\n",
    "        pos = state.real    \n",
    "        dir = state.imag\n",
    "        new_pos = (pos + dir).astype(int)\n",
    "        if game[new_pos[0], new_pos[1]] == 1:\n",
    "            new_dir = state.imag * 1j\n",
    "            new_state = pos + new_dir*1j\n",
    "        else:\n",
    "            new_state = new_pos + dir*1j\n",
    "        if new_state in seen:\n",
    "            break\n",
    "        seen.append(state)\n",
    "        state = new_state\n",
    "        print(state, len(seen), seen)\n",
    "        print(state not in seen)\n",
    "    return seen\n",
    "\n",
    "def run_obstacles(game: np.ndarray, start: np.ndarray) -> None:\n",
    "    seen = run_complex(game, start)\n",
    "    print(len(seen))\n",
    "\n",
    "run_obstacles(current_game, start)"
   ]
  },
  {
   "cell_type": "code",
   "execution_count": 91,
   "metadata": {},
   "outputs": [
    {
     "ename": "IndexError",
     "evalue": "index 43 is out of bounds for axis 0 with size 10",
     "output_type": "error",
     "traceback": [
      "\u001b[1;31m---------------------------------------------------------------------------\u001b[0m",
      "\u001b[1;31mIndexError\u001b[0m                                Traceback (most recent call last)",
      "Cell \u001b[1;32mIn[91], line 14\u001b[0m\n\u001b[0;32m     11\u001b[0m             \u001b[38;5;28;01mpass\u001b[39;00m\n\u001b[0;32m     12\u001b[0m     \u001b[38;5;28;01mreturn\u001b[39;00m possible_position\n\u001b[1;32m---> 14\u001b[0m possible_obstacle_positions \u001b[38;5;241m=\u001b[39m \u001b[43mget_possible_obstacle_positions\u001b[49m\u001b[43m(\u001b[49m\u001b[43mcurrent_game\u001b[49m\u001b[43m,\u001b[49m\u001b[43m \u001b[49m\u001b[43mguard_start\u001b[49m\u001b[43m)\u001b[49m\n\u001b[0;32m     16\u001b[0m \u001b[38;5;28;01mdef\u001b[39;00m \u001b[38;5;21mrun2\u001b[39m(game: np\u001b[38;5;241m.\u001b[39mndarray, start_position: np\u001b[38;5;241m.\u001b[39mndarray, start_direction: np\u001b[38;5;241m.\u001b[39mndarray) \u001b[38;5;241m-\u001b[39m\u001b[38;5;241m>\u001b[39m Tuple[np\u001b[38;5;241m.\u001b[39mndarray, np\u001b[38;5;241m.\u001b[39mndarray]:\n\u001b[0;32m     17\u001b[0m     footpath, _, is_loop \u001b[38;5;241m=\u001b[39m run(game, start_position, start_direction)\n",
      "Cell \u001b[1;32mIn[91], line 4\u001b[0m, in \u001b[0;36mget_possible_obstacle_positions\u001b[1;34m(game, position)\u001b[0m\n\u001b[0;32m      2\u001b[0m possible_position \u001b[38;5;241m=\u001b[39m np\u001b[38;5;241m.\u001b[39mzeros_like(game, dtype\u001b[38;5;241m=\u001b[39m\u001b[38;5;28mint\u001b[39m)\n\u001b[0;32m      3\u001b[0m possible_position[game \u001b[38;5;241m==\u001b[39m \u001b[38;5;241m0\u001b[39m] \u001b[38;5;241m=\u001b[39m \u001b[38;5;241m1\u001b[39m\n\u001b[1;32m----> 4\u001b[0m \u001b[43mpossible_position\u001b[49m\u001b[43m[\u001b[49m\u001b[43mposition\u001b[49m\u001b[43m[\u001b[49m\u001b[38;5;241;43m0\u001b[39;49m\u001b[43m]\u001b[49m\u001b[43m,\u001b[49m\u001b[43m \u001b[49m\u001b[43mposition\u001b[49m\u001b[43m[\u001b[49m\u001b[38;5;241;43m1\u001b[39;49m\u001b[43m]\u001b[49m\u001b[43m]\u001b[49m \u001b[38;5;241m=\u001b[39m \u001b[38;5;241m0\u001b[39m\n\u001b[0;32m      6\u001b[0m directions \u001b[38;5;241m=\u001b[39m np\u001b[38;5;241m.\u001b[39marray([[\u001b[38;5;241m0\u001b[39m, \u001b[38;5;241m1\u001b[39m], [\u001b[38;5;241m1\u001b[39m, \u001b[38;5;241m0\u001b[39m], [\u001b[38;5;241m0\u001b[39m, \u001b[38;5;241m-\u001b[39m\u001b[38;5;241m1\u001b[39m], [\u001b[38;5;241m-\u001b[39m\u001b[38;5;241m1\u001b[39m, \u001b[38;5;241m0\u001b[39m], [\u001b[38;5;241m1\u001b[39m, \u001b[38;5;241m1\u001b[39m], [\u001b[38;5;241m1\u001b[39m, \u001b[38;5;241m-\u001b[39m\u001b[38;5;241m1\u001b[39m], [\u001b[38;5;241m-\u001b[39m\u001b[38;5;241m1\u001b[39m, \u001b[38;5;241m1\u001b[39m], [\u001b[38;5;241m-\u001b[39m\u001b[38;5;241m1\u001b[39m, \u001b[38;5;241m-\u001b[39m\u001b[38;5;241m1\u001b[39m]])\n\u001b[0;32m      7\u001b[0m \u001b[38;5;28;01mfor\u001b[39;00m direction \u001b[38;5;129;01min\u001b[39;00m directions:\n",
      "\u001b[1;31mIndexError\u001b[0m: index 43 is out of bounds for axis 0 with size 10"
     ]
    }
   ],
   "source": [
    "def get_possible_obstacle_positions(game: np.ndarray, position: np.ndarray) -> np.ndarray:\n",
    "    possible_position = np.zeros_like(game, dtype=int)\n",
    "    possible_position[game == 0] = 1\n",
    "    possible_position[position[0], position[1]] = 0\n",
    "\n",
    "    directions = np.array([[0, 1], [1, 0], [0, -1], [-1, 0], [1, 1], [1, -1], [-1, 1], [-1, -1]])\n",
    "    for direction in directions:\n",
    "        try:\n",
    "            possible_position[position[0] + direction[0], position[1] + direction[1]] = 0\n",
    "        except IndexError:\n",
    "            pass\n",
    "    return possible_position\n",
    "\n",
    "possible_obstacle_positions = get_possible_obstacle_positions(current_game, guard_start)\n",
    "\n",
    "def run2(game: np.ndarray, start_position: np.ndarray, start_direction: np.ndarray) -> Tuple[np.ndarray, np.ndarray]:\n",
    "    footpath, _, is_loop = run(game, start_position, start_direction)\n",
    "    possible_obstacle_positions = get_possible_obstacle_positions(game, start_position)\n",
    "    reudced_possible_obstacle_positions = possible_obstacle_positions.copy()\n",
    "    reudced_possible_obstacle_positions[footpath == 0] = 0\n",
    "    irows, icols = np.where(reudced_possible_obstacle_positions == 1)\n",
    "    obstacle_is_loop = np.zeros_like(irows, dtype=bool)\n",
    "    loop_size = np.zeros_like(irows)\n",
    "    for iobstacle, (irow, icol) in enumerate(zip(irows, icols)):\n",
    "        manipulated_game = game.copy()\n",
    "        manipulated_game[irow, icol] = 1\n",
    "        footpath, _, obstacle_is_loop[iobstacle] = run(manipulated_game, start_position, start_direction)\n",
    "        loop_size[iobstacle] = footpath[footpath > 0].size\n",
    "        print(f\"{iobstacle:04d}\", footpath[footpath > 0].size, obstacle_is_loop[iobstacle])\n",
    "    return irows, icols, obstacle_is_loop, loop_size\n",
    "\n",
    "irows, icols, obstacle_is_loop, loop_size = run2(current_game, guard_start, np.array([-1, 0]))"
   ]
  },
  {
   "cell_type": "code",
   "execution_count": null,
   "metadata": {},
   "outputs": [
    {
     "data": {
      "text/plain": [
       "1833"
      ]
     },
     "execution_count": 72,
     "metadata": {},
     "output_type": "execute_result"
    }
   ],
   "source": [
    "obstacle_is_loop[obstacle_is_loop].size"
   ]
  }
 ],
 "metadata": {
  "kernelspec": {
   "display_name": ".venvAOC",
   "language": "python",
   "name": "python3"
  },
  "language_info": {
   "codemirror_mode": {
    "name": "ipython",
    "version": 3
   },
   "file_extension": ".py",
   "mimetype": "text/x-python",
   "name": "python",
   "nbconvert_exporter": "python",
   "pygments_lexer": "ipython3",
   "version": "3.13.0"
  }
 },
 "nbformat": 4,
 "nbformat_minor": 2
}
